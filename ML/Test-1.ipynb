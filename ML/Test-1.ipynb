{
 "cells": [
  {
   "cell_type": "markdown",
   "metadata": {},
   "source": [
    "[Theoretic article](https://www.jeremyjordan.me/autoencoders/)    \n",
    "[Wiki Autoencoder](https://en.wikipedia.org/wiki/Autoencoder#Image_Processing)  \n",
    "[Wiki Super-Resolution](https://en.wikipedia.org/wiki/Super-resolution_imaging)  \n",
    "[Scolar articles about Autoencoder NN's](https://scholar.google.be/scholar?q=autoencoder+neural+network&hl=en&as_sdt=0&as_vis=1&oi=scholart) \n",
    "    \n",
    "[Practical article](https://medium.com/analytics-vidhya/super-resolution-using-autoencoders-and-tf2-0-505215c1674)  \n",
    "[Paper from practice](https://arxiv.org/pdf/1603.08155.pdf)  \n",
    "[Code from Practice](https://colab.research.google.com/drive/1YXy_9B4h-NC7KU_40aP5U2SgVCVw4H_D)  \n",
    "\n",
    "[different article](http://krasserm.github.io/2019/09/04/super-resolution/)\n",
    "\n",
    "![](https://miro.medium.com/max/700/1*VYH3i2-2CZ6Fyd7Bv9UHFw.png)\n"
   ]
  },
  {
   "cell_type": "code",
   "execution_count": 1,
   "metadata": {},
   "outputs": [],
   "source": [
    "import matplotlib.pyplot as plt\n",
    "import tensorflow as tf\n",
    "import numpy as np\n",
    "import urllib\n",
    "import cv2\n",
    "import os"
   ]
  },
  {
   "cell_type": "code",
   "execution_count": 2,
   "metadata": {},
   "outputs": [],
   "source": [
    "PROJECT_ROOT = os.path.dirname(os.path.abspath(\"./\"))\n",
    "images_Processed_F = f\"{PROJECT_ROOT}\\\\Data\\\\Processed-images\\\\FaithfulBlocks\"\n",
    "images_Processed_V = f\"{PROJECT_ROOT}\\\\Data\\\\Processed-images\\\\VanillaBlocks\""
   ]
  },
  {
   "cell_type": "code",
   "execution_count": 3,
   "metadata": {},
   "outputs": [],
   "source": [
    "input_img = tf.keras.layers.Input(shape=(32, 32, 4))\n",
    "\n",
    "l1 = tf.keras.layers.Conv2D(16, (3,3), padding='same', kernel_initializer='he_uniform', activation='relu', activity_regularizer=tf.keras.regularizers.l1(10e-10))(input_img)\n",
    "l2 = tf.keras.layers.Conv2D(16, (3,3), padding='same', kernel_initializer='he_uniform', activation='relu', activity_regularizer=tf.keras.regularizers.l1(10e-10))(l1)\n",
    "l3 = tf.keras.layers.MaxPool2D(padding='same')(l2)\n",
    "\n",
    "l4 = tf.keras.layers.Conv2D(32, (3,3), padding='same', kernel_initializer='he_uniform', activation='relu', activity_regularizer=tf.keras.regularizers.l1(10e-10))(l3)\n",
    "\n",
    "l5 = tf.keras.layers.UpSampling2D()(l4)\n",
    "l6 = tf.keras.layers.Conv2D(16, (3,3), padding='same', kernel_initializer='he_uniform', activation='relu', activity_regularizer=tf.keras.regularizers.l1(10e-10))(l5)\n",
    "l7 = tf.keras.layers.Conv2D(16, (3,3), padding='same', kernel_initializer='he_uniform', activation='relu', activity_regularizer=tf.keras.regularizers.l1(10e-10))(l6)\n",
    "\n",
    "l8 = tf.keras.layers.add([l7, l2])\n",
    "\n",
    "decoded_image = tf.keras.layers.Conv2D(4, (3,3), padding='same', kernel_initializer='he_uniform', activation='relu', activity_regularizer=tf.keras.regularizers.l1(10e-10))(l8)\n",
    "\n",
    "auto_encoder = tf.keras.models.Model(inputs=(input_img), outputs=decoded_image)\n",
    "\n",
    "auto_encoder.compile(optimizer='adadelta', loss='mean_squared_error')"
   ]
  },
  {
   "cell_type": "code",
   "execution_count": 4,
   "metadata": {},
   "outputs": [],
   "source": [
    "def get_training_data():\n",
    "    real_image_treat_as_y = []\n",
    "    downsize_image_treat_as_x = []\n",
    "    \n",
    "    for img in os.listdir(images_Processed_F):\n",
    "\n",
    "        try:\n",
    "            image = cv2.cvtColor(cv2.imread(f\"{images_Processed_F}/{img}\", cv2.IMREAD_UNCHANGED), cv2.COLOR_BGR2BGRA) \n",
    "            reshaped_image = cv2.resize(image, (32, 32))\n",
    "\n",
    "            if reshaped_image.shape[-1] == 4:\n",
    "                real_image_treat_as_y.append(reshaped_image)\n",
    "\n",
    "            image = cv2.resize(image, (16, 16))\n",
    "\n",
    "            reshaped_image = cv2.resize(image, (32, 32))\n",
    "\n",
    "            if reshaped_image.shape[-1] == 4:\n",
    "                downsize_image_treat_as_x.append(cv2.resize(image, (32, 32)))\n",
    "\n",
    "        except Exception as e:\n",
    "            print(e)\n",
    "\n",
    "    return (np.array(downsize_image_treat_as_x), np.array(real_image_treat_as_y))"
   ]
  },
  {
   "cell_type": "code",
   "execution_count": 5,
   "metadata": {
    "tags": []
   },
   "outputs": [],
   "source": [
    "downized_images, real_images = get_training_data()"
   ]
  },
  {
   "cell_type": "code",
   "execution_count": 6,
   "metadata": {},
   "outputs": [
    {
     "output_type": "execute_result",
     "data": {
      "text/plain": "(696, 32, 32, 4)"
     },
     "metadata": {},
     "execution_count": 6
    }
   ],
   "source": [
    "downized_images.shape"
   ]
  },
  {
   "cell_type": "code",
   "execution_count": 7,
   "metadata": {},
   "outputs": [
    {
     "output_type": "execute_result",
     "data": {
      "text/plain": "(696, 32, 32, 4)"
     },
     "metadata": {},
     "execution_count": 7
    }
   ],
   "source": [
    "real_images.shape"
   ]
  },
  {
   "cell_type": "code",
   "execution_count": 8,
   "metadata": {
    "tags": []
   },
   "outputs": [],
   "source": [
    "tf.config.run_functions_eagerly(True)"
   ]
  },
  {
   "cell_type": "code",
   "execution_count": 8,
   "metadata": {
    "tags": []
   },
   "outputs": [
    {
     "output_type": "error",
     "ename": "NameError",
     "evalue": "name 'auto_encoder' is not defined",
     "traceback": [
      "\u001b[1;31m---------------------------------------------------------------------------\u001b[0m",
      "\u001b[1;31mNameError\u001b[0m                                 Traceback (most recent call last)",
      "\u001b[1;32m<ipython-input-8-12c7df98a996>\u001b[0m in \u001b[0;36m<module>\u001b[1;34m\u001b[0m\n\u001b[1;32m----> 1\u001b[1;33m auto_encoder.fit(downized_images,\n\u001b[0m\u001b[0;32m      2\u001b[0m                  \u001b[0mreal_images\u001b[0m\u001b[1;33m,\u001b[0m\u001b[1;33m\u001b[0m\u001b[1;33m\u001b[0m\u001b[0m\n\u001b[0;32m      3\u001b[0m                  \u001b[0mepochs\u001b[0m\u001b[1;33m=\u001b[0m\u001b[1;36m5\u001b[0m\u001b[1;33m,\u001b[0m\u001b[1;33m\u001b[0m\u001b[1;33m\u001b[0m\u001b[0m\n\u001b[0;32m      4\u001b[0m                  \u001b[0mbatch_size\u001b[0m\u001b[1;33m=\u001b[0m\u001b[1;36m10\u001b[0m\u001b[1;33m,\u001b[0m\u001b[1;33m\u001b[0m\u001b[1;33m\u001b[0m\u001b[0m\n\u001b[0;32m      5\u001b[0m                  \u001b[0mshuffle\u001b[0m\u001b[1;33m=\u001b[0m\u001b[1;32mTrue\u001b[0m\u001b[1;33m,\u001b[0m\u001b[1;33m\u001b[0m\u001b[1;33m\u001b[0m\u001b[0m\n",
      "\u001b[1;31mNameError\u001b[0m: name 'auto_encoder' is not defined"
     ]
    }
   ],
   "source": [
    "auto_encoder.fit(downized_images,\n",
    "                 real_images,\n",
    "                 epochs=5,\n",
    "                 batch_size=10,\n",
    "                 shuffle=True,\n",
    "                 validation_split=0.15)"
   ]
  },
  {
   "cell_type": "code",
   "execution_count": 9,
   "metadata": {
    "tags": []
   },
   "outputs": [
    {
     "output_type": "error",
     "ename": "NameError",
     "evalue": "name 'auto_encoder' is not defined",
     "traceback": [
      "\u001b[1;31m---------------------------------------------------------------------------\u001b[0m",
      "\u001b[1;31mNameError\u001b[0m                                 Traceback (most recent call last)",
      "\u001b[1;32m<ipython-input-9-5d1124e47af0>\u001b[0m in \u001b[0;36m<module>\u001b[1;34m\u001b[0m\n\u001b[1;32m----> 1\u001b[1;33m \u001b[0msr1\u001b[0m \u001b[1;33m=\u001b[0m \u001b[0mauto_encoder\u001b[0m\u001b[1;33m.\u001b[0m\u001b[0mpredict\u001b[0m\u001b[1;33m(\u001b[0m\u001b[0mdownized_images\u001b[0m\u001b[1;33m)\u001b[0m\u001b[1;33m\u001b[0m\u001b[1;33m\u001b[0m\u001b[0m\n\u001b[0m",
      "\u001b[1;31mNameError\u001b[0m: name 'auto_encoder' is not defined"
     ]
    }
   ],
   "source": [
    "sr1 = auto_encoder.predict(downized_images)"
   ]
  },
  {
   "cell_type": "code",
   "execution_count": 10,
   "metadata": {
    "tags": []
   },
   "outputs": [
    {
     "output_type": "error",
     "ename": "NameError",
     "evalue": "name 'plt' is not defined",
     "traceback": [
      "\u001b[1;31m---------------------------------------------------------------------------\u001b[0m",
      "\u001b[1;31mNameError\u001b[0m                                 Traceback (most recent call last)",
      "\u001b[1;32m<ipython-input-10-b41d547e2bb8>\u001b[0m in \u001b[0;36m<module>\u001b[1;34m\u001b[0m\n\u001b[0;32m      1\u001b[0m \u001b[0mimage_index\u001b[0m \u001b[1;33m=\u001b[0m \u001b[1;36m500\u001b[0m\u001b[1;33m\u001b[0m\u001b[1;33m\u001b[0m\u001b[0m\n\u001b[1;32m----> 2\u001b[1;33m \u001b[0mplt\u001b[0m\u001b[1;33m.\u001b[0m\u001b[0mfigure\u001b[0m\u001b[1;33m(\u001b[0m\u001b[0mfigsize\u001b[0m\u001b[1;33m=\u001b[0m\u001b[1;33m(\u001b[0m\u001b[1;36m32\u001b[0m\u001b[1;33m,\u001b[0m \u001b[1;36m32\u001b[0m\u001b[1;33m)\u001b[0m\u001b[1;33m)\u001b[0m\u001b[1;33m\u001b[0m\u001b[1;33m\u001b[0m\u001b[0m\n\u001b[0m\u001b[0;32m      3\u001b[0m \u001b[1;33m\u001b[0m\u001b[0m\n\u001b[0;32m      4\u001b[0m \u001b[0max\u001b[0m \u001b[1;33m=\u001b[0m \u001b[0mplt\u001b[0m\u001b[1;33m.\u001b[0m\u001b[0msubplot\u001b[0m\u001b[1;33m(\u001b[0m\u001b[1;36m10\u001b[0m\u001b[1;33m,\u001b[0m \u001b[1;36m10\u001b[0m\u001b[1;33m,\u001b[0m \u001b[1;36m1\u001b[0m\u001b[1;33m)\u001b[0m\u001b[1;33m\u001b[0m\u001b[1;33m\u001b[0m\u001b[0m\n\u001b[0;32m      5\u001b[0m \u001b[0mplt\u001b[0m\u001b[1;33m.\u001b[0m\u001b[0mimshow\u001b[0m\u001b[1;33m(\u001b[0m\u001b[0mdownized_images\u001b[0m\u001b[1;33m[\u001b[0m\u001b[0mimage_index\u001b[0m\u001b[1;33m]\u001b[0m\u001b[1;33m)\u001b[0m\u001b[1;33m\u001b[0m\u001b[1;33m\u001b[0m\u001b[0m\n",
      "\u001b[1;31mNameError\u001b[0m: name 'plt' is not defined"
     ]
    }
   ],
   "source": [
    "image_index = 500\n",
    "plt.figure(figsize=(32, 32))\n",
    "\n",
    "ax = plt.subplot(10, 10, 1)\n",
    "plt.imshow(downized_images[image_index])\n",
    "\n",
    "ax = plt.subplot(10, 10, 2)\n",
    "plt.imshow(downized_images[image_index], interpolation=\"bicubic\")\n",
    "\n",
    "# ax = plt.subplot(10, 10, i)\n",
    "# plt.imshow(encoded_imgs[image_index].reshape((64*64, 256)))\n",
    "\n",
    "ax = plt.subplot(10, 10, 3)\n",
    "plt.imshow(sr1[image_index])\n",
    "\n",
    "ax = plt.subplot(10, 10, 4)\n",
    "plt.imshow(real_images[image_index])\n",
    "\n",
    "plt.show()"
   ]
  },
  {
   "cell_type": "code",
   "execution_count": null,
   "metadata": {},
   "outputs": [],
   "source": []
  }
 ],
 "metadata": {
  "language_info": {
   "codemirror_mode": {
    "name": "ipython",
    "version": 3
   },
   "file_extension": ".py",
   "mimetype": "text/x-python",
   "name": "python",
   "nbconvert_exporter": "python",
   "pygments_lexer": "ipython3",
   "version": "3.8.2-final"
  },
  "orig_nbformat": 2,
  "kernelspec": {
   "name": "python38264bitccd76772a05f4a818b85475ead832635",
   "display_name": "Python 3.8.2 64-bit"
  }
 },
 "nbformat": 4,
 "nbformat_minor": 2
}